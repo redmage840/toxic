{
 "cells": [
  {
   "cell_type": "code",
   "execution_count": 7,
   "metadata": {},
   "outputs": [],
   "source": [
    "# TO-DO\n",
    "# bs4, remove non-alpha-apostrophe chars\n",
    "# tfidf- max_df covers some domain words, min_df, ngram_range\n",
    "# Compare to results with different/no data cleaning\n",
    "# What is the accuracy of guessing all zeros? 49%\n",
    "# Try other vectorizers/classifiers\n",
    "# Derive features to show other corellations: length, num_exclaim, percent_caps, logged_in\n",
    "# POS tagging features... number of verbs, nouns, etc\n",
    "\n",
    "# use mean/median score for non-unanimous data set\n",
    "\n",
    "import nltk\n",
    "import pandas as pd\n",
    "\n",
    "# Read and merge two files into df\n",
    "comments=pd.read_csv('toxicity_annotated_comments_unanimous.tsv', sep='\\t')\n",
    "scores=pd.read_csv('toxicity_annotations_unanimous.tsv', sep='\\t')\n",
    "uniqueScores = scores[[\"rev_id\", \"toxicity_score\", \"toxicity\"]].groupby(\"rev_id\", as_index=False).first()\n",
    "df = pd.merge(comments, uniqueScores, on=\"rev_id\")\n",
    "\n",
    "df['length'] = df.comment.str.len()\n"
   ]
  },
  {
   "cell_type": "code",
   "execution_count": 8,
   "metadata": {},
   "outputs": [],
   "source": [
    "# Remove HTML elements and 'NEWLINE_TOKEN'\n",
    "from bs4 import BeautifulSoup\n",
    "df['cleaned_comments'] = df.comment.apply(lambda x: BeautifulSoup(x, 'html5lib').get_text())\n",
    "\n",
    "df['cleaned_comment'] = df.cleaned_comments.apply(lambda x: x.replace('NEWLINE_TOKEN', ''))"
   ]
  },
  {
   "cell_type": "code",
   "execution_count": 9,
   "metadata": {},
   "outputs": [],
   "source": [
    "# Remove non-(alpha|whitespace|apostrophe) chars, change to lowercase\n",
    "import re\n",
    "\n",
    "df['cleaned_comment'] = df.cleaned_comment.apply(lambda x: re.sub(\"[^a-zA-Z\\s']\", '', x))\n",
    "df['cleaned_comment'] = df.cleaned_comment.apply(str.lower)"
   ]
  },
  {
   "cell_type": "code",
   "execution_count": 10,
   "metadata": {},
   "outputs": [],
   "source": [
    "#Remove rows with blank comments\n",
    "df = df[df['cleaned_comment'].str.len()>0]"
   ]
  },
  {
   "cell_type": "code",
   "execution_count": 11,
   "metadata": {},
   "outputs": [
    {
     "name": "stdout",
     "output_type": "stream",
     "text": [
      "0.8896956157497906\n"
     ]
    }
   ],
   "source": [
    "# Get percentage of zeroes\n",
    "all_scores = df.toxicity_score\n",
    "num_zeroes = df.toxicity_score[df.toxicity_score==0]\n",
    "print(len(num_zeroes)/len(all_scores))"
   ]
  },
  {
   "cell_type": "code",
   "execution_count": 12,
   "metadata": {},
   "outputs": [],
   "source": [
    "from sklearn.model_selection import train_test_split\n",
    "\n",
    "train_set, test_set = train_test_split(df, test_size=0.3, random_state=666)\n",
    "all_words_train = train_set.cleaned_comment\n",
    "all_words_test = test_set.cleaned_comment"
   ]
  },
  {
   "cell_type": "code",
   "execution_count": 13,
   "metadata": {},
   "outputs": [],
   "source": [
    "# TF-IDF Vectorizer (Try other alternatives as well)\n",
    "import numpy as np\n",
    "from sklearn.feature_extraction.text import TfidfVectorizer\n",
    "vectorizer = TfidfVectorizer(min_df=2, ngram_range=(1, 3),  \\\n",
    "                             stop_words='english',  strip_accents='unicode',  norm='l2')\n",
    "\n",
    "X_train = vectorizer.fit_transform(all_words_train)\n",
    "X_test = vectorizer.transform(all_words_test)\n"
   ]
  },
  {
   "cell_type": "code",
   "execution_count": 14,
   "metadata": {},
   "outputs": [
    {
     "name": "stdout",
     "output_type": "stream",
     "text": [
      "0.893953488372093\n"
     ]
    }
   ],
   "source": [
    "# Classifier, Multinomial Naive Bayes\n",
    "from sklearn.naive_bayes import MultinomialNB\n",
    "NBclassifier = MultinomialNB()\n",
    "NBclassifier.fit(X_train, train_set.toxicity_score)\n",
    "\n",
    "#resultNB = NBclassifier.predict(X_test)\n",
    "\n",
    "# count = 0\n",
    "# for i,x,y in zip(resultNB, test_set.toxicity_score):\n",
    "#     if x == y: count+=1\n",
    "# print(count/len(resultNB))\n",
    "    \n",
    "print(NBclassifier.score(X_test, test_set.toxicity_score))"
   ]
  },
  {
   "cell_type": "code",
   "execution_count": 15,
   "metadata": {},
   "outputs": [
    {
     "name": "stdout",
     "output_type": "stream",
     "text": [
      "0.9051162790697674\n"
     ]
    }
   ],
   "source": [
    "# Classifier, Bernoulli Naive Bayes\n",
    "from sklearn.naive_bayes import BernoulliNB\n",
    "bernNBclassifier = BernoulliNB()\n",
    "bernNBclassifier.fit(X_train, train_set.toxicity_score)\n",
    "\n",
    "#resultBernoulliNB = bernNBclassifier.predict(X_test)\n",
    "\n",
    "print(bernNBclassifier.score(X_test, test_set.toxicity_score))"
   ]
  },
  {
   "cell_type": "code",
   "execution_count": 16,
   "metadata": {},
   "outputs": [
    {
     "name": "stdout",
     "output_type": "stream",
     "text": [
      "0.9283720930232559\n"
     ]
    }
   ],
   "source": [
    "# Classifier, linear model\n",
    "from sklearn import linear_model\n",
    "sgd_clsf = linear_model.SGDClassifier(max_iter=90)\n",
    "sgd_clsf.fit(X_train, train_set.toxicity_score)\n",
    "\n",
    "#resultSGD = sgd_clsf.predict(X_test)\n",
    "\n",
    "print(sgd_clsf.score(X_test, test_set.toxicity_score))"
   ]
  },
  {
   "cell_type": "code",
   "execution_count": 18,
   "metadata": {},
   "outputs": [
    {
     "name": "stdout",
     "output_type": "stream",
     "text": [
      "0.9330232558139535\n"
     ]
    }
   ],
   "source": [
    "# Classifier, Linear SVC\n",
    "from sklearn.svm import LinearSVC\n",
    "from nltk.classify.scikitlearn import SklearnClassifier\n",
    "linSVCclsf = LinearSVC()\n",
    "linSVCclsf.fit(X_train, train_set.toxicity_score)\n",
    "\n",
    "#result_linearSVC= linSVCclsf.predict(X_test)\n",
    "\n",
    "print(linSVCclsf.score(X_test, test_set.toxicity_score))"
   ]
  },
  {
   "cell_type": "code",
   "execution_count": 19,
   "metadata": {},
   "outputs": [
    {
     "name": "stdout",
     "output_type": "stream",
     "text": [
      "0.9227906976744186\n"
     ]
    }
   ],
   "source": [
    "from sklearn.ensemble import RandomForestClassifier\n",
    "\n",
    "forest = RandomForestClassifier(n_estimators = 100)\n",
    "\n",
    "forest = forest.fit(X_train, train_set.toxicity_score)\n",
    "\n",
    "resultForest = forest.predict(X_test)\n",
    "\n",
    "print(forest.score(X_test, test_set.toxicity_score))\n",
    "\n"
   ]
  },
  {
   "cell_type": "code",
   "execution_count": null,
   "metadata": {},
   "outputs": [],
   "source": [
    "from sklearn.ensemble import VotingClassifier\n",
    "all_clsf = VotingClassifier(estimators=[('multiNB', NBclassifier), ('randForest', forest), ('linSVC', linSVCclsf),\\\n",
    "                                       ('linModel', sgd_clsf)])\n",
    "all_clsf.fit(X_train, train_set.toxicity_score)\n",
    "print(all_clsf.score(X_test, test_set.toxicity_score))"
   ]
  }
 ],
 "metadata": {
  "kernelspec": {
   "display_name": "Python 3",
   "language": "python",
   "name": "python3"
  },
  "language_info": {
   "codemirror_mode": {
    "name": "ipython",
    "version": 3
   },
   "file_extension": ".py",
   "mimetype": "text/x-python",
   "name": "python",
   "nbconvert_exporter": "python",
   "pygments_lexer": "ipython3",
   "version": "3.5.2"
  }
 },
 "nbformat": 4,
 "nbformat_minor": 2
}
