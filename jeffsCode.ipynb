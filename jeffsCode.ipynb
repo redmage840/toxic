# Jeff Lippert's code
# https://github.com/jlippert999/PDS-NLP-Toxicity/blob/master/Portland%20Data%20Scient%20NLP%20Toxicity.ipynb

import pandas as pd
import os
import re
import time
import numpy as np

import nltk

# Read the comments and scores...
df = pd.read_csv('toxicity_annotated_comments.tsv', sep='\t')
scores = pd.read_csv('toxicity_annotations.tsv', sep='\t')

df["mean_score"] = pd.Series(scores.groupby("rev_id",as_index=False).mean()["toxicity_score"])
df["median_score"] = pd.Series(scores.groupby("rev_id",as_index=False).median()["toxicity_score"])

# Create categorical variable toxicity_score: if mean_score < 0, toxicity_score=1, otherwise 0
df["toxicity_score"] = (df["mean_score"] < 0).astype(int)

# Remove HTML elements, 'NEWLINE_TOKEN'
from bs4 import BeautifulSoup
df.comment = df.comment.apply(lambda x: BeautifulSoup(x, 'html5lib').get_text())
df.comment = df.comment.apply(lambda x: x.replace('NEWLINE_TOKEN', ' '))


# Add extra features...
df['logged_in'] = df.logged_in.astype(int)
df['length'] = df.comment.apply(lambda x: len(x))
df['num_exclamation_marks'] = df.comment.apply(lambda comment: comment.count('!'))
df['num_words'] = df.comment.apply(lambda comment: len(comment.split()))
df['num_unique_words'] = df.comment.apply(lambda comment: len(set(w for w in comment.split())))

# Remove all but word, lower, remove extra spaces (for readability)
df.comment = df.comment.apply(lambda x: re.sub("[^a-zA-Z\s']", '', x))
df.comment = df.comment.apply(str.lower)

# Remove rows with blank comments...
df = df[df.comment.str.len() > 0]


df = df.sample(frac=.1,random_state=200)
# df = dfClean # 100%

from sklearn.model_selection import train_test_split

train_set_df, test_set_df = train_test_split(df, test_size=0.2, random_state=666)
all_words_train = train_set_df.comment
all_words_test = test_set_df.comment


from sklearn.feature_extraction.text import TfidfVectorizer

vectorizer = TfidfVectorizer(min_df=2, max_df=.5, ngram_range=(1, 3),
                             stop_words='english',  strip_accents='unicode',  norm='l2',          
                             max_features = 5000)

X_train = vectorizer.fit_transform(all_words_train)
X_test = vectorizer.transform(all_words_test)

Y_train = train_set_df.toxicity_score
Y_test = test_set_df.toxicity_score

# from sklearn import metrics
# from sklearn.metrics import confusion_matrix, classification_report

from sklearn import linear_model
from sklearn import tree
from sklearn.ensemble import GradientBoostingClassifier, RandomForestClassifier, VotingClassifier
from sklearn.gaussian_process.kernels import RBF
from sklearn.linear_model import LogisticRegression
from sklearn.naive_bayes import GaussianNB, BernoulliNB, MultinomialNB
from sklearn.neural_network import MLPClassifier
from sklearn.neighbors import KNeighborsClassifier
from sklearn.svm import SVC, NuSVC, LinearSVC

test_classifiers = {
    "Logistic Regression": LogisticRegression(),
    "Nearest Neighbors": KNeighborsClassifier(n_neighbors=3, weights='distance'),
    "Linear SVM": SVC(),
    "Gradient Boosting": GradientBoostingClassifier(),
    "Decision Tree": tree.DecisionTreeClassifier(),
    "Random Forest": RandomForestClassifier(n_estimators = 100),
    "Neural Net": MLPClassifier(alpha = 1),
    "Multinomial NB": MultinomialNB(),
    "Bernoulli NB": BernoulliNB(),
    "SGDClassifier": linear_model.SGDClassifier(max_iter=90),
    "Linear SVC": LinearSVC()
}



# from sklearn.ensemble import VotingClassifier


# convert dictionary to tuple (key, value)
top = [(k,v) for k,v in top_classifiers.items()] 
votingClassifier = VotingClassifier(estimators=top, voting='hard')

# voted classify
votedPredictions = vote_classify(votingClassifier, X_train, Y_train, X_test, Y_test)


from sklearn.calibration import calibration_curve, CalibratedClassifierCV

def plotResultsProbabilityCalibration(classifiers, X_train, y_train, X_test, y_test):
    # <!-- collapse=True -->
    plt.figure(figsize=(9, 9))
    ax1 = plt.subplot2grid((3, 1), (0, 0), rowspan=2)
    ax2 = plt.subplot2grid((3, 1), (2, 0))
    
    ax1.plot([0, 1], [0, 1], "k:", label="Perfectly calibrated")
    
    for name, clf in classifiers.items():
    
        clf.fit(X_train, y_train)
        if hasattr(clf, "predict_proba"):
            prob_pos = clf.predict_proba(X_test)[:, 1]
        else:  # use decision function
            prob_pos = clf.decision_function(X_test)
            prob_pos = \
                (prob_pos - prob_pos.min()) / (prob_pos.max() - prob_pos.min())
        fraction_of_positives, mean_predicted_value = \
            calibration_curve(y_test, prob_pos, n_bins=10)
    
        ax1.plot(mean_predicted_value, fraction_of_positives, "s-",
                 label="%s" % (name, ))
    
        ax2.hist(prob_pos, range=(0, 1), bins=10, label=name,
                 histtype="step", lw=2)
    
    ax1.set_ylabel("Fraction of positives")
    ax1.set_ylim([-0.05, 1.05])
    ax1.legend(loc="lower right")
    ax1.set_title('Calibration plots  (reliability curve)')
    
    ax2.set_xlabel("Mean predicted value")
    ax2.set_ylabel("Count")
    ax2.legend(loc="upper center", ncol=2)
    
    plt.tight_layout()
    
# plot top classifiers...
plotResultsProbabilityCalibration(top_classifiers, X_train, Y_train, X_test, Y_test)


otherfeatures = train_set_df[['logged_in','length','num_exclamation_marks','num_words']]
sns.heatmap(data=otherfeatures.corr(), annot=True)

X_train_other_df = train_set_df[['logged_in','length','num_exclamation_marks','num_words']]
X_test_other_df  =  test_set_df[['logged_in','length','num_exclamation_marks','num_words']]

from sklearn.preprocessing import StandardScaler
sc = StandardScaler()
X_train_other = sc.fit_transform(X_train_other_df)
X_test_other = sc.transform(X_test_other_df)

classifier = RandomForestClassifier(n_estimators = 100, criterion = 'entropy', random_state = 0)
classifier.fit(X_train_other, Y_train)
        

train_score = classifier.score(X_train_other, Y_train)
test_score = classifier.score(X_test_other, Y_test)

pred = classifier.predict(X_test_other)

report = classification_report(Y_test, pred)
accuracy = metrics.accuracy_score(Y_test, pred)

print(report)
print(accuracy)


importances = classifier.feature_importances_
sorted_idx = np.argsort(importances)

features = np.array(['logged_in','length','num_exclamation_marks','num_words'])

padding = np.arange(len(features)) + 0.5
plt.barh(padding, importances[sorted_idx], align='center')
plt.yticks(padding, features[sorted_idx])
plt.xlabel("Relative Importance")
plt.title("Variable Importance")
plt.show()

