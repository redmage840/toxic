{
 "cells": [
  {
   "cell_type": "code",
   "execution_count": 2,
   "metadata": {},
   "outputs": [],
   "source": [
    "import nltk\n",
    "import pandas as pd\n",
    "\n",
    "# Read and merge two files into df\n",
    "comments = pd.read_csv('toxicity_annotated_comments_unanimous.tsv', sep='\\t')\n",
    "scores = pd.read_csv('toxicity_annotations_unanimous.tsv', sep='\\t')\n",
    "uniqueScores = scores[[\"rev_id\", \"toxicity_score\", \"toxicity\"]].groupby(\"rev_id\", as_index=False).first()\n",
    "df = pd.merge(comments, uniqueScores, on=\"rev_id\")\n",
    "\n",
    "df['number_exclamation'] = df.comment.apply(lambda x: x.count('!'))"
   ]
  },
  {
   "cell_type": "code",
   "execution_count": 3,
   "metadata": {},
   "outputs": [],
   "source": [
    "# Remove HTML elements and 'NEWLINE_TOKEN'\n",
    "from bs4 import BeautifulSoup\n",
    "df['cleaned_comment'] = df.comment.apply(lambda x: BeautifulSoup(x, 'html5lib').get_text())\n",
    "\n",
    "df['cleaned_comment'] = df.cleaned_comment.apply(lambda x: x.replace('NEWLINE_TOKEN', ''))"
   ]
  },
  {
   "cell_type": "code",
   "execution_count": 4,
   "metadata": {},
   "outputs": [],
   "source": [
    "# Remove non-(alpha|whitespace|apostrophe) chars, change to lowercase\n",
    "import re\n",
    "\n",
    "df['cleaned_comment'] = df.cleaned_comment.apply(lambda x: re.sub(\"[^a-zA-Z\\s']\", '', x))\n",
    "\n",
    "def count_capitals(someString):\n",
    "    count = 0\n",
    "    for char in someString:\n",
    "        if char.isupper():\n",
    "            count += 1\n",
    "    return count\n",
    "\n",
    "df['percent_caps'] = df.cleaned_comment.apply(count_capitals)\n",
    "df['cleaned_comment'] = df.cleaned_comment.apply(str.lower)"
   ]
  },
  {
   "cell_type": "code",
   "execution_count": 5,
   "metadata": {},
   "outputs": [],
   "source": [
    "#Remove rows with blank comments\n",
    "df = df[df['cleaned_comment'].str.len()>0]"
   ]
  },
  {
   "cell_type": "code",
   "execution_count": 6,
   "metadata": {},
   "outputs": [],
   "source": [
    "from sklearn.model_selection import train_test_split\n",
    "\n",
    "train_set, test_set = train_test_split(df, test_size=0.3, random_state=666)\n",
    "all_words_train = train_set.cleaned_comment\n",
    "all_words_test = test_set.cleaned_comment"
   ]
  },
  {
   "cell_type": "code",
   "execution_count": 7,
   "metadata": {},
   "outputs": [
    {
     "name": "stdout",
     "output_type": "stream",
     "text": [
      "0.8911627906976745\n"
     ]
    }
   ],
   "source": [
    "# Get percentage of zeroes in test set, (a general baseline to beat)\n",
    "all_scores = test_set.toxicity_score\n",
    "num_zeroes = test_set.toxicity_score[test_set.toxicity_score==0]\n",
    "print(len(num_zeroes)/len(all_scores))"
   ]
  },
  {
   "cell_type": "code",
   "execution_count": 8,
   "metadata": {},
   "outputs": [],
   "source": [
    "# Feature Engineering - Number of Exclamation symbols\n",
    "from sklearn.base import TransformerMixin\n",
    "\n",
    "class Exclamation_Featurizer(TransformerMixin):\n",
    "    def __init__(self):\n",
    "        pass\n",
    "    def fit(self, X, y=None):\n",
    "        return self\n",
    "    def transform(self, X):\n",
    "        return [[df.iloc[i].number_exclamation] for i, e in enumerate(X)]\n",
    "\n",
    "exclam_vec = Exclamation_Featurizer()"
   ]
  },
  {
   "cell_type": "code",
   "execution_count": 9,
   "metadata": {},
   "outputs": [],
   "source": [
    "# Feature Engineering - Percent Capital Letters\n",
    "\n",
    "class Capital_Featurizer(TransformerMixin):\n",
    "    def __init__(self):\n",
    "        pass\n",
    "    def fit(self, X, y=None):\n",
    "        return self\n",
    "    def transform(self, X):\n",
    "        return [[df.iloc[i].percent_caps] for i, e in enumerate(X)]\n",
    "\n",
    "capital_vec = Capital_Featurizer()"
   ]
  },
  {
   "cell_type": "code",
   "execution_count": 10,
   "metadata": {},
   "outputs": [],
   "source": [
    "# Feature Engineering - Length of Comment\n",
    "\n",
    "class Length_Featurizer(TransformerMixin):\n",
    "    def __init__(self):\n",
    "        pass\n",
    "    def fit(self, X, y=None):\n",
    "        return self\n",
    "    def transform(self, X):\n",
    "        return [[len(i)] for i in X]\n",
    "\n",
    "len_vec = Length_Featurizer()"
   ]
  },
  {
   "cell_type": "code",
   "execution_count": 11,
   "metadata": {},
   "outputs": [],
   "source": [
    "# Feature Engineering - Logged In\n",
    "\n",
    "class Logged_In(TransformerMixin):\n",
    "    def __init__(self):\n",
    "        pass\n",
    "    def fit(self, X, y=None):\n",
    "        return self\n",
    "    def transform(self, X):\n",
    "        return [[1] if df.iloc[i].logged_in==True else [0] for i, e in enumerate(X)]\n",
    "\n",
    "logged_in_vec = Logged_In()"
   ]
  },
  {
   "cell_type": "code",
   "execution_count": 12,
   "metadata": {},
   "outputs": [],
   "source": [
    "# TF-IDF Vectorizer\n",
    "from sklearn.feature_extraction.text import TfidfVectorizer\n",
    "\n",
    "tfidf_vectorizer = TfidfVectorizer(min_df=2, max_df=.4, ngram_range=(1, 3),  \\\n",
    "                             stop_words='english',  strip_accents='unicode',  norm='l2', max_features=5000)\n"
   ]
  },
  {
   "cell_type": "code",
   "execution_count": 13,
   "metadata": {},
   "outputs": [],
   "source": [
    "# Bag of Words Vectorizer\n",
    "from sklearn.feature_extraction.text import CountVectorizer\n",
    "\n",
    "count_vectorizer = CountVectorizer(stop_words=\"english\", min_df=2, max_df=.5, ngram_range=(1,3))"
   ]
  },
  {
   "cell_type": "code",
   "execution_count": 14,
   "metadata": {},
   "outputs": [],
   "source": [
    "from sklearn.pipeline import FeatureUnion\n",
    "\n",
    "combined_features = FeatureUnion([(\"bagOwords\", count_vectorizer), (\"tfidf\", tfidf_vectorizer), ('lenvec', len_vec),\\\n",
    "                                 (\"loggedIn\", logged_in_vec), (\"numExclams\", exclam_vec), (\"percentCaps\", capital_vec)])\n",
    "\n",
    "X_train = combined_features.fit_transform(all_words_train)\n",
    "X_test = combined_features.transform(all_words_test)"
   ]
  },
  {
   "cell_type": "code",
   "execution_count": 15,
   "metadata": {},
   "outputs": [],
   "source": [
    "# Classifier, Logistic Regression\n",
    "from sklearn.linear_model import LogisticRegression\n",
    "\n",
    "logRegClsfr = LogisticRegression()"
   ]
  },
  {
   "cell_type": "code",
   "execution_count": 16,
   "metadata": {},
   "outputs": [],
   "source": [
    "# Classifier, MLP\n",
    "from sklearn.neural_network import MLPClassifier\n",
    "\n",
    "nnClsfr = MLPClassifier(alpha = 1)"
   ]
  },
  {
   "cell_type": "code",
   "execution_count": 17,
   "metadata": {},
   "outputs": [],
   "source": [
    "# Classifier, Decision Tree\n",
    "from sklearn import tree\n",
    "\n",
    "dtreeClsfr = tree.DecisionTreeClassifier()"
   ]
  },
  {
   "cell_type": "code",
   "execution_count": 18,
   "metadata": {},
   "outputs": [],
   "source": [
    "# Classifier, Gradient Boosting\n",
    "from sklearn.ensemble import GradientBoostingClassifier\n",
    "\n",
    "grboostClsfr = GradientBoostingClassifier()"
   ]
  },
  {
   "cell_type": "code",
   "execution_count": 19,
   "metadata": {},
   "outputs": [],
   "source": [
    "# Classifier, Linear SVC\n",
    "from sklearn.svm import LinearSVC\n",
    "\n",
    "linSVCclsf = LinearSVC()"
   ]
  },
  {
   "cell_type": "code",
   "execution_count": 20,
   "metadata": {},
   "outputs": [],
   "source": [
    "# Classifier, Random Forest\n",
    "from sklearn.ensemble import RandomForestClassifier\n",
    "\n",
    "forest = RandomForestClassifier(n_estimators = 1000)"
   ]
  },
  {
   "cell_type": "code",
   "execution_count": 22,
   "metadata": {},
   "outputs": [
    {
     "name": "stdout",
     "output_type": "stream",
     "text": [
      "Accuracy of predictions on test_set is  0.9376744186046512\n"
     ]
    },
    {
     "name": "stderr",
     "output_type": "stream",
     "text": [
      "/Library/Frameworks/Python.framework/Versions/3.5/lib/python3.5/site-packages/sklearn/preprocessing/label.py:151: DeprecationWarning: The truth value of an empty array is ambiguous. Returning False, but in future this will result in an error. Use `array.size > 0` to check that an array is not empty.\n",
      "  if diff:\n"
     ]
    }
   ],
   "source": [
    "from sklearn.ensemble import VotingClassifier\n",
    "all_clsf = VotingClassifier(estimators=[('randForest', forest), ('linSVC', linSVCclsf),\\\n",
    "                                        ('logreg', logRegClsfr), ('nn', nnClsfr),\\\n",
    "                                        ('dtree', dtreeClsfr), ('grboost', grboostClsfr)])\n",
    "all_clsf.fit(X_train, train_set.toxicity_score)\n",
    "print('Accuracy of predictions on test_set is ', all_clsf.score(X_test, test_set.toxicity_score))"
   ]
  }
 ],
 "metadata": {
  "kernelspec": {
   "display_name": "Python 3",
   "language": "python",
   "name": "python3"
  },
  "language_info": {
   "codemirror_mode": {
    "name": "ipython",
    "version": 3
   },
   "file_extension": ".py",
   "mimetype": "text/x-python",
   "name": "python",
   "nbconvert_exporter": "python",
   "pygments_lexer": "ipython3",
   "version": "3.5.2"
  }
 },
 "nbformat": 4,
 "nbformat_minor": 2
}
