{
 "cells": [
  {
   "cell_type": "code",
   "execution_count": 1,
   "metadata": {},
   "outputs": [],
   "source": [
    "# POS tagging features... number of verbs, nouns, etc\n",
    "\n",
    "# use mean/median score for non-unanimous data set\n",
    "\n",
    "# Features to engineer: percent alpha \n",
    "# http://scikit-learn.org/stable/modules/generated/sklearn.pipeline.Pipeline.html\n",
    "\n",
    "import nltk\n",
    "import pandas as pd\n",
    "\n",
    "# Read and merge two files into df\n",
    "comments = pd.read_csv('toxicity_annotated_comments_unanimous.tsv', sep='\\t')\n",
    "scores = pd.read_csv('toxicity_annotations_unanimous.tsv', sep='\\t')\n",
    "uniqueScores = scores[[\"rev_id\", \"toxicity_score\", \"toxicity\"]].groupby(\"rev_id\", as_index=False).first()\n",
    "df = pd.merge(comments, uniqueScores, on=\"rev_id\")\n",
    "\n",
    "# df['length'] = df.comment.str.len()\n",
    "df['number_exclamation'] = df.comment.apply(lambda x: x.count('!'))"
   ]
  },
  {
   "cell_type": "code",
   "execution_count": null,
   "metadata": {},
   "outputs": [],
   "source": [
    "# Open portion of non-unanimous data into df2\n",
    "# Predict for non-unanimous data with models trained by unanimous data\n",
    "\n",
    "comments2 = pd.read_csv('toxicity_annotated_comments.tsv', sep='\\t')\n",
    "# Mean scores rounded to nearest whole value\n",
    "mean_scores = pd.read_csv('toxicity_annotations.tsv', sep='\\t').groupby('rev_id', as_index=False)['toxicity_score'].mean().round()\n",
    "df2 = pd.merge(comments2, mean_scores, on='rev_id')"
   ]
  },
  {
   "cell_type": "code",
   "execution_count": 2,
   "metadata": {},
   "outputs": [],
   "source": [
    "# Remove HTML elements and 'NEWLINE_TOKEN'\n",
    "from bs4 import BeautifulSoup\n",
    "df['cleaned_comment'] = df.comment.apply(lambda x: BeautifulSoup(x, 'html5lib').get_text())\n",
    "\n",
    "df['cleaned_comment'] = df.cleaned_comment.apply(lambda x: x.replace('NEWLINE_TOKEN', ''))"
   ]
  },
  {
   "cell_type": "code",
   "execution_count": 3,
   "metadata": {},
   "outputs": [],
   "source": [
    "# Remove non-(alpha|whitespace|apostrophe) chars, change to lowercase\n",
    "import re\n",
    "\n",
    "df['cleaned_comment'] = df.cleaned_comment.apply(lambda x: re.sub(\"[^a-zA-Z\\s']\", '', x))\n",
    "\n",
    "def count_capitals(someString):\n",
    "    count = 0\n",
    "    for char in someString:\n",
    "        if char.isupper():\n",
    "            count += 1\n",
    "    return count\n",
    "\n",
    "df['percent_caps'] = df.cleaned_comment.apply(count_capitals)\n",
    "df['cleaned_comment'] = df.cleaned_comment.apply(str.lower)"
   ]
  },
  {
   "cell_type": "code",
   "execution_count": 4,
   "metadata": {},
   "outputs": [],
   "source": [
    "#Remove rows with blank comments\n",
    "df = df[df['cleaned_comment'].str.len()>0]"
   ]
  },
  {
   "cell_type": "code",
   "execution_count": 5,
   "metadata": {},
   "outputs": [
    {
     "name": "stdout",
     "output_type": "stream",
     "text": [
      "0.8896956157497906\n"
     ]
    }
   ],
   "source": [
    "# Get percentage of zeroes\n",
    "all_scores = df.toxicity_score\n",
    "num_zeroes = df.toxicity_score[df.toxicity_score==0]\n",
    "print(len(num_zeroes)/len(all_scores))"
   ]
  },
  {
   "cell_type": "code",
   "execution_count": 13,
   "metadata": {},
   "outputs": [],
   "source": [
    "from sklearn.model_selection import train_test_split\n",
    "\n",
    "train_set, test_set = train_test_split(df, test_size=0.3, random_state=666)\n",
    "all_words_train = train_set.cleaned_comment\n",
    "all_words_test = test_set.cleaned_comment"
   ]
  },
  {
   "cell_type": "code",
   "execution_count": null,
   "metadata": {},
   "outputs": [],
   "source": [
    "all_words_train = df.cleaned_comment\n",
    "df2 = df2[:5000]\n",
    "all_words_test = df2.comment"
   ]
  },
  {
   "cell_type": "code",
   "execution_count": null,
   "metadata": {},
   "outputs": [],
   "source": [
    "# Get percentage of zeroes\n",
    "all_scores = df2.toxicity_score\n",
    "num_zeroes = df2.toxicity_score[df2.toxicity_score==0]\n",
    "print(len(num_zeroes)/len(all_scores))"
   ]
  },
  {
   "cell_type": "code",
   "execution_count": 6,
   "metadata": {},
   "outputs": [],
   "source": [
    "# Feature Engineering - Number of Exclamation symbols\n",
    "from sklearn.base import TransformerMixin\n",
    "\n",
    "class Exclamation_Featurizer(TransformerMixin):\n",
    "    def __init__(self):\n",
    "        pass\n",
    "    def fit(self, X, y=None):\n",
    "        return self\n",
    "    def transform(self, X):\n",
    "        return [[df.iloc[i].number_exclamation] for i, e in enumerate(X)]\n",
    "\n",
    "exclam_vec = Exclamation_Featurizer()"
   ]
  },
  {
   "cell_type": "code",
   "execution_count": 7,
   "metadata": {},
   "outputs": [],
   "source": [
    "# Feature Engineering - Percent Capital Letters\n",
    "\n",
    "class Capital_Featurizer(TransformerMixin):\n",
    "    def __init__(self):\n",
    "        pass\n",
    "    def fit(self, X, y=None):\n",
    "        return self\n",
    "    def transform(self, X):\n",
    "        return [[df.iloc[i].percent_caps] for i, e in enumerate(X)]\n",
    "\n",
    "capital_vec = Capital_Featurizer()"
   ]
  },
  {
   "cell_type": "code",
   "execution_count": 8,
   "metadata": {},
   "outputs": [],
   "source": [
    "# Feature Engineering - Length of Comment\n",
    "\n",
    "class Length_Featurizer(TransformerMixin):\n",
    "    def __init__(self):\n",
    "        pass\n",
    "    def fit(self, X, y=None):\n",
    "        return self\n",
    "    def transform(self, X):\n",
    "        return [[len(i)] for i in X]\n",
    "\n",
    "len_vec = Length_Featurizer()"
   ]
  },
  {
   "cell_type": "code",
   "execution_count": 9,
   "metadata": {},
   "outputs": [],
   "source": [
    "# Feature Engineering - Logged In\n",
    "\n",
    "class Logged_In(TransformerMixin):\n",
    "    def __init__(self):\n",
    "        pass\n",
    "    def fit(self, X, y=None):\n",
    "        return self\n",
    "    def transform(self, X):\n",
    "        return [[1] if df.iloc[i].logged_in==True else [0] for i, e in enumerate(X)]\n",
    "\n",
    "logged_in_vec = Logged_In()"
   ]
  },
  {
   "cell_type": "code",
   "execution_count": 10,
   "metadata": {},
   "outputs": [],
   "source": [
    "# TF-IDF Vectorizer\n",
    "from sklearn.feature_extraction.text import TfidfVectorizer\n",
    "\n",
    "tfidf_vectorizer = TfidfVectorizer(min_df=2, max_df=.4, ngram_range=(1, 3),  \\\n",
    "                             stop_words='english',  strip_accents='unicode',  norm='l2', max_features=5000)\n",
    "\n",
    "# print(tfidf_vectorizer.get_feature_names())"
   ]
  },
  {
   "cell_type": "code",
   "execution_count": 11,
   "metadata": {},
   "outputs": [],
   "source": [
    "# Bag of Words Vectorizer\n",
    "from sklearn.feature_extraction.text import CountVectorizer\n",
    "\n",
    "count_vectorizer = CountVectorizer(stop_words=\"english\", min_df=2, max_df=.5, ngram_range=(1,3))"
   ]
  },
  {
   "cell_type": "code",
   "execution_count": 14,
   "metadata": {},
   "outputs": [],
   "source": [
    "from sklearn.pipeline import FeatureUnion\n",
    "\n",
    "combined_features = FeatureUnion([(\"bagOwords\", count_vectorizer), (\"tfidf\", tfidf_vectorizer), ('lenvec', len_vec),\\\n",
    "                                 (\"loggedIn\", logged_in_vec), (\"numExclams\", exclam_vec), (\"percentCaps\", capital_vec)])\n",
    "\n",
    "X_train = combined_features.fit_transform(all_words_train)\n",
    "X_test = combined_features.transform(all_words_test)"
   ]
  },
  {
   "cell_type": "code",
   "execution_count": 16,
   "metadata": {},
   "outputs": [
    {
     "name": "stdout",
     "output_type": "stream",
     "text": [
      "0.9255813953488372\n"
     ]
    }
   ],
   "source": [
    "# Classifier, Logistic Regression\n",
    "from sklearn.linear_model import LogisticRegression\n",
    "\n",
    "logRegClsfr = LogisticRegression()\n",
    "logRegClsfr.fit(X_train, train_set.toxicity_score)\n",
    "\n",
    "# print(logRegClsfr.predict(tfidf_vectorizer.transform(([['go fuck yurself']]))))\n",
    "print(logRegClsfr.score(X_test, test_set.toxicity_score))"
   ]
  },
  {
   "cell_type": "code",
   "execution_count": 17,
   "metadata": {},
   "outputs": [
    {
     "name": "stdout",
     "output_type": "stream",
     "text": [
      "0.892093023255814\n"
     ]
    }
   ],
   "source": [
    "# Classifier, K Nearest Neighbors\n",
    "from sklearn.neighbors import KNeighborsClassifier\n",
    "\n",
    "knborsClsfr = KNeighborsClassifier(n_neighbors=5, weights='distance')\n",
    "knborsClsfr.fit(X_train, train_set.toxicity_score)\n",
    "\n",
    "print(knborsClsfr.score(X_test, test_set.toxicity_score))"
   ]
  },
  {
   "cell_type": "code",
   "execution_count": 18,
   "metadata": {},
   "outputs": [
    {
     "name": "stdout",
     "output_type": "stream",
     "text": [
      "0.8958139534883721\n"
     ]
    }
   ],
   "source": [
    "# Classifier, SVC\n",
    "from sklearn.svm import SVC\n",
    "\n",
    "svcClsfr = SVC()\n",
    "svcClsfr.fit(X_train, train_set.toxicity_score)\n",
    "\n",
    "print(svcClsfr.score(X_test, test_set.toxicity_score))"
   ]
  },
  {
   "cell_type": "code",
   "execution_count": null,
   "metadata": {},
   "outputs": [],
   "source": [
    "from sklearn.svm import NuSVC"
   ]
  },
  {
   "cell_type": "code",
   "execution_count": 19,
   "metadata": {},
   "outputs": [
    {
     "name": "stdout",
     "output_type": "stream",
     "text": [
      "0.9172093023255814\n"
     ]
    }
   ],
   "source": [
    "\n",
    "from sklearn.neural_network import MLPClassifier\n",
    "\n",
    "nnClsfr = MLPClassifier(alpha = 1)\n",
    "nnClsfr.fit(X_train, train_set.toxicity_score)\n",
    "\n",
    "print(nnClsfr.score(X_test, test_set.toxicity_score))"
   ]
  },
  {
   "cell_type": "code",
   "execution_count": 20,
   "metadata": {},
   "outputs": [
    {
     "name": "stdout",
     "output_type": "stream",
     "text": [
      "0.9255813953488372\n"
     ]
    }
   ],
   "source": [
    "from sklearn import tree\n",
    "\n",
    "dtreeClsfr = tree.DecisionTreeClassifier()\n",
    "dtreeClsfr.fit(X_train, train_set.toxicity_score)\n",
    "\n",
    "print(dtreeClsfr.score(X_test, test_set.toxicity_score))"
   ]
  },
  {
   "cell_type": "code",
   "execution_count": 21,
   "metadata": {},
   "outputs": [
    {
     "name": "stdout",
     "output_type": "stream",
     "text": [
      "0.9386046511627907\n"
     ]
    }
   ],
   "source": [
    "\n",
    "from sklearn.ensemble import GradientBoostingClassifier\n",
    "\n",
    "grboostClsfr = GradientBoostingClassifier()\n",
    "grboostClsfr.fit(X_train, train_set.toxicity_score)\n",
    "\n",
    "print(grboostClsfr.score(X_test, test_set.toxicity_score))"
   ]
  },
  {
   "cell_type": "code",
   "execution_count": 22,
   "metadata": {},
   "outputs": [
    {
     "name": "stdout",
     "output_type": "stream",
     "text": [
      "0.8362790697674418\n"
     ]
    }
   ],
   "source": [
    "# Classifier, Multinomial Naive Bayes\n",
    "from sklearn.naive_bayes import MultinomialNB\n",
    "NBclassifier = MultinomialNB()\n",
    "NBclassifier.fit(X_train, train_set.toxicity_score)\n",
    "\n",
    "#resultNB = NBclassifier.predict(X_test)\n",
    "    \n",
    "print(NBclassifier.score(X_test, test_set.toxicity_score))"
   ]
  },
  {
   "cell_type": "code",
   "execution_count": 23,
   "metadata": {},
   "outputs": [
    {
     "name": "stdout",
     "output_type": "stream",
     "text": [
      "0.9051162790697674\n"
     ]
    }
   ],
   "source": [
    "# Classifier, Bernoulli Naive Bayes\n",
    "from sklearn.naive_bayes import BernoulliNB\n",
    "bernNBclassifier = BernoulliNB()\n",
    "bernNBclassifier.fit(X_train, train_set.toxicity_score)\n",
    "\n",
    "#resultBernoulliNB = bernNBclassifier.predict(X_test)\n",
    "\n",
    "print(bernNBclassifier.score(X_test, test_set.toxicity_score))"
   ]
  },
  {
   "cell_type": "code",
   "execution_count": 24,
   "metadata": {},
   "outputs": [
    {
     "name": "stdout",
     "output_type": "stream",
     "text": [
      "0.8958139534883721\n"
     ]
    }
   ],
   "source": [
    "# Classifier, Linear Model\n",
    "from sklearn import linear_model\n",
    "sgd_clsf = linear_model.SGDClassifier(max_iter=1000)\n",
    "sgd_clsf.fit(X_train, train_set.toxicity_score)\n",
    "\n",
    "#resultSGD = sgd_clsf.predict(X_test)\n",
    "\n",
    "print(sgd_clsf.score(X_test, test_set.toxicity_score))"
   ]
  },
  {
   "cell_type": "code",
   "execution_count": 25,
   "metadata": {},
   "outputs": [
    {
     "name": "stdout",
     "output_type": "stream",
     "text": [
      "0.933953488372093\n"
     ]
    }
   ],
   "source": [
    "# Classifier, Linear SVC\n",
    "from sklearn.svm import LinearSVC\n",
    "\n",
    "linSVCclsf = LinearSVC()\n",
    "linSVCclsf.fit(X_train, train_set.toxicity_score)\n",
    "\n",
    "#result_linearSVC= linSVCclsf.predict(X_test)\n",
    "\n",
    "print(linSVCclsf.score(X_test, test_set.toxicity_score))"
   ]
  },
  {
   "cell_type": "code",
   "execution_count": 26,
   "metadata": {},
   "outputs": [
    {
     "name": "stdout",
     "output_type": "stream",
     "text": [
      "0.933953488372093\n"
     ]
    }
   ],
   "source": [
    "\n",
    "from sklearn.ensemble import RandomForestClassifier\n",
    "\n",
    "forest = RandomForestClassifier(n_estimators = 1000)\n",
    "\n",
    "forest = forest.fit(X_train, train_set.toxicity_score)\n",
    "\n",
    "#resultForest = forest.predict(X_test)\n",
    "\n",
    "print(forest.score(X_test, test_set.toxicity_score))"
   ]
  },
  {
   "cell_type": "code",
   "execution_count": 28,
   "metadata": {},
   "outputs": [
    {
     "name": "stdout",
     "output_type": "stream",
     "text": [
      "0.9283720930232559\n"
     ]
    },
    {
     "name": "stderr",
     "output_type": "stream",
     "text": [
      "/Library/Frameworks/Python.framework/Versions/3.5/lib/python3.5/site-packages/sklearn/preprocessing/label.py:151: DeprecationWarning: The truth value of an empty array is ambiguous. Returning False, but in future this will result in an error. Use `array.size > 0` to check that an array is not empty.\n",
      "  if diff:\n"
     ]
    }
   ],
   "source": [
    "from sklearn.ensemble import VotingClassifier\n",
    "all_clsf = VotingClassifier(estimators=[('multiNB', NBclassifier), ('randForest', forest), ('linSVC', linSVCclsf),\\\n",
    "                                       ('linModel', sgd_clsf), ('logreg', logRegClsfr), ('knbors', knborsClsfr),\\\n",
    "                                       ('svc', svcClsfr), ('nn', nnClsfr), ('dtree', dtreeClsfr), ('grboost', grboostClsfr)])\n",
    "all_clsf.fit(X_train, train_set.toxicity_score)\n",
    "print(all_clsf.score(X_test, test_set.toxicity_score))"
   ]
  },
  {
   "cell_type": "code",
   "execution_count": null,
   "metadata": {},
   "outputs": [],
   "source": [
    "from sklearn.preprocessing import StandardScaler\n",
    "import numpy as np\n",
    "sc = StandardScaler(with_mean=False)\n",
    "\n",
    "X_train_other = sc.fit_transform(X_train.toarray(), train_set.toxicity_score)\n",
    "X_test_other = sc.transform(X_test)\n",
    "\n",
    "classifier = RandomForestClassifier(n_estimators = 1000, criterion = 'entropy', random_state = 0)\n",
    "classifier.fit(X_train_other, train_set.toxicity_score)\n",
    "\n",
    "print(classifier.score(X_test, test_set.toxicity_score))\n"
   ]
  }
 ],
 "metadata": {
  "kernelspec": {
   "display_name": "Python 3",
   "language": "python",
   "name": "python3"
  },
  "language_info": {
   "codemirror_mode": {
    "name": "ipython",
    "version": 3
   },
   "file_extension": ".py",
   "mimetype": "text/x-python",
   "name": "python",
   "nbconvert_exporter": "python",
   "pygments_lexer": "ipython3",
   "version": "3.5.2"
  }
 },
 "nbformat": 4,
 "nbformat_minor": 2
}
